{
  "nbformat": 4,
  "nbformat_minor": 0,
  "metadata": {
    "colab": {
      "provenance": [],
      "authorship_tag": "ABX9TyNd25E8U48UR/X00CZQQftV",
      "include_colab_link": true
    },
    "kernelspec": {
      "name": "python3",
      "display_name": "Python 3"
    },
    "language_info": {
      "name": "python"
    }
  },
  "cells": [
    {
      "cell_type": "markdown",
      "metadata": {
        "id": "view-in-github",
        "colab_type": "text"
      },
      "source": [
        "<a href=\"https://colab.research.google.com/github/udaraKavishka/movie_rating_prediction/blob/main/Movie_Rating_Prediction.ipynb\" target=\"_parent\"><img src=\"https://colab.research.google.com/assets/colab-badge.svg\" alt=\"Open In Colab\"/></a>"
      ]
    },
    {
      "cell_type": "markdown",
      "source": [
        "Creating Github Connection"
      ],
      "metadata": {
        "id": "wb5xLwIxkqax"
      }
    },
    {
      "cell_type": "markdown",
      "source": [
        "# Task 02 : Movie Rating Prediction"
      ],
      "metadata": {
        "id": "RQhaCpPqIMt-"
      }
    },
    {
      "cell_type": "markdown",
      "source": [
        "Creating a Github Connection"
      ],
      "metadata": {
        "id": "NtbzsDf6Iw4R"
      }
    },
    {
      "cell_type": "code",
      "execution_count": 1,
      "metadata": {
        "colab": {
          "base_uri": "https://localhost:8080/"
        },
        "id": "HfFuNLSAg7Sp",
        "outputId": "d685d5fc-a156-4aaf-81fb-ef83af540c71"
      },
      "outputs": [
        {
          "output_type": "stream",
          "name": "stdout",
          "text": [
            "Cloning into 'movie_rating_prediction'...\n",
            "remote: Enumerating objects: 6, done.\u001b[K\n",
            "remote: Counting objects: 100% (6/6), done.\u001b[K\n",
            "remote: Compressing objects: 100% (4/4), done.\u001b[K\n",
            "remote: Total 6 (delta 0), reused 0 (delta 0), pack-reused 0\u001b[K\n",
            "Receiving objects: 100% (6/6), 485.06 KiB | 3.73 MiB/s, done.\n"
          ]
        }
      ],
      "source": [
        "!git clone https://github.com/udaraKavishka/movie_rating_prediction.git"
      ]
    },
    {
      "cell_type": "markdown",
      "source": [
        "Import Dependencies"
      ],
      "metadata": {
        "id": "FcDnODKQkura"
      }
    },
    {
      "cell_type": "code",
      "source": [
        "import numpy as np\n",
        "import pandas as pd\n",
        "import matplotlib.pyplot as plt\n",
        "import seaborn as sns"
      ],
      "metadata": {
        "id": "lvtvvoSLkx2p"
      },
      "execution_count": 2,
      "outputs": []
    }
  ]
}